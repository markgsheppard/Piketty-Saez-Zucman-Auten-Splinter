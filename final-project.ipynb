{
 "cells": [
  {
   "cell_type": "markdown",
   "metadata": {},
   "source": [
    "## Import Packages"
   ]
  },
  {
   "cell_type": "code",
   "execution_count": null,
   "metadata": {},
   "outputs": [],
   "source": [
    "import requests\n",
    "import os\n",
    "import pandas as pd\n",
    "import matplotlib.pyplot as plt\n",
    "import numpy as np\n",
    "import urllib\n",
    "\n",
    "\n",
    "import time\n",
    "\n",
    "\n",
    "from bokeh.plotting import figure, show \n",
    "from bokeh.layouts import gridplot\n",
    "from bokeh.models import HoverTool\n",
    "from ipywidgets import interact\n",
    "from bokeh.io import output_notebook\n",
    "output_notebook()"
   ]
  },
  {
   "cell_type": "markdown",
   "metadata": {},
   "source": [
    "## Define Paths"
   ]
  },
  {
   "cell_type": "code",
   "execution_count": null,
   "metadata": {},
   "outputs": [],
   "source": [
    "start = time.time()\n",
    "end = time.time()\n",
    "\n",
    "path = '/Users/marksheppard/Documents/GitHub/Python Project/'\n",
    "psz_url = 'http://gabriel-zucman.eu/files/PSZ2018MainData.xlsx'\n",
    "as_url = 'http://davidsplinter.com/AutenSplinter-IncomeIneq.xlsx'\n",
    "urllib.request.urlretrieve(psz_url, \"piketty-saez-zucman.xlsx\")\n",
    "urllib.request.urlretrieve(as_url, \"auten-splinter.xlsx\")\n",
    "psz_df = pd.read_excel(psz_url, 'Data')\n",
    "as_df = pd.read_excel(as_url, 'F-A1')\n",
    "\n",
    "\n",
    "print(\"Downloading the data required\", (end - start), \"seconds.\")"
   ]
  },
  {
   "cell_type": "code",
   "execution_count": null,
   "metadata": {},
   "outputs": [],
   "source": []
  },
  {
   "cell_type": "code",
   "execution_count": null,
   "metadata": {},
   "outputs": [],
   "source": []
  },
  {
   "cell_type": "markdown",
   "metadata": {},
   "source": [
    "## DATA CLEANING"
   ]
  },
  {
   "cell_type": "code",
   "execution_count": null,
   "metadata": {},
   "outputs": [],
   "source": [
    "new_as_header = as_df.iloc[31] #grab the first row for the header\n",
    "as_df = as_df[32:] #take the data less the header row\n",
    "as_df.columns = new_as_header #set the header row as the df header\n",
    "as_df.columns = as_df.columns.fillna('Year')\n",
    "as_df.drop(as_df.tail(2).index,inplace=True)\n",
    "#as_df = as_df.reset_index()\n",
    "#as_df = as_df.drop(as_df.columns[6], axis=1)\n",
    "#as_df.head()"
   ]
  },
  {
   "cell_type": "code",
   "execution_count": null,
   "metadata": {},
   "outputs": [],
   "source": [
    "new_psz_header = psz_df.iloc[1] #grab the first row for the header\n",
    "psz_df = psz_df[2:] #take the data less the header row\n",
    "psz_df.columns = new_psz_header #set the header row as the df header\n",
    "psz_df = psz_df.rename(columns={\"Series\": \"Year\"})\n",
    "#psz_df = psz_df.drop([2,3])\n",
    "#psz_df.drop(psz_df.tail(11).index,inplace=True)\n",
    "#psz_df.tail()"
   ]
  },
  {
   "cell_type": "code",
   "execution_count": null,
   "metadata": {},
   "outputs": [],
   "source": []
  },
  {
   "cell_type": "code",
   "execution_count": null,
   "metadata": {
    "scrolled": true
   },
   "outputs": [],
   "source": [
    "#as_df = as_df.filter(['Year'])\n",
    "#psz_df = psz_df.filter(['Year'])"
   ]
  },
  {
   "cell_type": "markdown",
   "metadata": {},
   "source": [
    "## Below this is Scratch Work"
   ]
  },
  {
   "cell_type": "code",
   "execution_count": null,
   "metadata": {},
   "outputs": [],
   "source": [
    "path_ = '/Users/marksheppard/Documents/GitHub/homework-3-markgsheppard-1/'\n",
    "file_name_ = [('Income.csv'),\n",
    "            ('Grant.csv')]\n",
    "income_df = pd.read_csv('Income.csv') \n",
    "grant_df = pd.read_csv('Grant.csv')"
   ]
  },
  {
   "cell_type": "markdown",
   "metadata": {},
   "source": [
    "## Subset Data"
   ]
  },
  {
   "cell_type": "code",
   "execution_count": null,
   "metadata": {},
   "outputs": [],
   "source": [
    "income_df = income_df.filter(['year', 'inst_name', 'faminc_mean', 'faminc_med'])\n",
    "grant_df = grant_df.filter(['year', 'inst_name', 'type_of_aid', 'number_of_students', 'average_amount', 'total_amount'])"
   ]
  },
  {
   "cell_type": "markdown",
   "metadata": {},
   "source": [
    "## Merge Data"
   ]
  },
  {
   "cell_type": "code",
   "execution_count": null,
   "metadata": {},
   "outputs": [],
   "source": [
    "df = income_df.merge(grant_df)"
   ]
  },
  {
   "cell_type": "markdown",
   "metadata": {},
   "source": [
    "## Define Functions"
   ]
  },
  {
   "cell_type": "code",
   "execution_count": null,
   "metadata": {},
   "outputs": [],
   "source": [
    "def grant_type(type_of_aid):\n",
    "    return df[df['type_of_aid']==type_of_aid]\n",
    "aid = df['type_of_aid'].unique()\n",
    "\n",
    "def school_type(type_of_school):\n",
    "    return df[df['inst_name']==type_of_school]\n",
    "school = df['inst_name'].unique()"
   ]
  },
  {
   "cell_type": "markdown",
   "metadata": {},
   "source": [
    "## Static Plots"
   ]
  },
  {
   "cell_type": "code",
   "execution_count": null,
   "metadata": {},
   "outputs": [],
   "source": [
    "df['number_of_students_scaled'] = np.abs(df['number_of_students']) / 50\n",
    "\n",
    "plt.scatter('faminc_mean', 'average_amount', c = 'year', s ='number_of_students_scaled', alpha=0.6, data=df)\n",
    "plt.xlabel('Average Financial Aid Award')\n",
    "plt.ylabel('Mean Family Income')\n",
    "plt.show()"
   ]
  },
  {
   "cell_type": "code",
   "execution_count": null,
   "metadata": {},
   "outputs": [],
   "source": [
    "plt.scatter('faminc_med', 'average_amount', c = 'year', s ='number_of_students_scaled', alpha=0.6, data=df)\n",
    "plt.xlabel('Average Financial Aid Award')\n",
    "plt.ylabel('Median Family Income')\n",
    "plt.show()"
   ]
  },
  {
   "cell_type": "code",
   "execution_count": null,
   "metadata": {},
   "outputs": [],
   "source": [
    "plot = figure(x_axis_label='Mean Family Income', \n",
    "              y_axis_label='Average Amount of Aid')\n",
    "\n",
    "plot.circle(df['faminc_med'], df['average_amount'])\n",
    "#https://github.com/bokeh/bokeh/blob/branch-2.3/examples/app/crossfilter/main.py\n",
    "#https://github.com/Data-and-Programming-2-TAs/Sarah-Discussion-Notebooks/blob/master/lab_5-interactive%20plotting%20example.ipynb\n",
    "\n",
    "show(plot)"
   ]
  },
  {
   "cell_type": "code",
   "execution_count": null,
   "metadata": {},
   "outputs": [],
   "source": [
    "plot = figure(x_axis_label='Mean Family Income', \n",
    "              y_axis_label='Average Amount of Aid')\n",
    "\n",
    "plot.circle(df['faminc_mean'], df['average_amount'])\n",
    "#https://github.com/bokeh/bokeh/blob/branch-2.3/examples/app/crossfilter/main.py\n",
    "#https://github.com/Data-and-Programming-2-TAs/Sarah-Discussion-Notebooks/blob/master/lab_5-interactive%20plotting%20example.ipynb\n",
    "\n",
    "show(plot)"
   ]
  },
  {
   "cell_type": "markdown",
   "metadata": {},
   "source": [
    "## Interactive Plots"
   ]
  },
  {
   "cell_type": "code",
   "execution_count": null,
   "metadata": {},
   "outputs": [],
   "source": [
    "hover = HoverTool(tooltips = [('Median Income', '@x'), ('Amount of Aid', '@y')])\n",
    "plot = figure(x_axis_label='Median Family Income', \n",
    "              y_axis_label='Average Amount of Aid',\n",
    "              tools=[hover])\n",
    "\n",
    "plot.circle(df['faminc_med'], df['average_amount'])\n",
    "#https://github.com/bokeh/bokeh/blob/branch-2.3/examples/app/crossfilter/main.py\n",
    "\n",
    "show(plot)"
   ]
  },
  {
   "cell_type": "markdown",
   "metadata": {},
   "source": [
    "## Drop Down Menu Plots"
   ]
  },
  {
   "cell_type": "code",
   "execution_count": null,
   "metadata": {},
   "outputs": [],
   "source": [
    "@interact(Aid=aid) # dropdown menue\n",
    "def interactive(Aid=aid):\n",
    "    hover = HoverTool(tooltips = [('Median Income', '@x'), ('Amount of Aid', '@y')])\n",
    "    plot = figure(x_axis_label='Median Family Income', \n",
    "              y_axis_label='Average Amount of Aid',\n",
    "              tools=[hover])\n",
    "    plot_df = grant_type(Aid)\n",
    "    plot.circle(plot_df['faminc_med'], plot_df['average_amount'])\n",
    "    #https://github.com/bokeh/bokeh/blob/branch-2.3/examples/app/crossfilter/main.py\n",
    "    show(plot)"
   ]
  },
  {
   "cell_type": "code",
   "execution_count": null,
   "metadata": {},
   "outputs": [],
   "source": [
    "@interact(School=school) # dropdown menue\n",
    "def interactive(School=school):\n",
    "    hover = HoverTool(tooltips = [('Median Income', '@x'), ('Amount of Aid', '@y')])\n",
    "    plot = figure(x_axis_label='Median Family Income', \n",
    "              y_axis_label='Average Amount of Aid',\n",
    "              tools=[hover])\n",
    "    plot_df = school_type(School)\n",
    "    plot.circle(plot_df['faminc_med'], plot_df['average_amount'])\n",
    "    #https://github.com/bokeh/bokeh/blob/branch-2.3/examples/app/crossfilter/main.py\n",
    "    show(plot)"
   ]
  },
  {
   "cell_type": "markdown",
   "metadata": {},
   "source": [
    "There are important differences in financial aid from year to year. The grant awarded is sensitive to income. Additionally, the measure of center, whether median or mean income, is informative in determining average grants awarded. There seems to remain some baseline level of merit-based scholarship that is independent of income. Interestingly, when the data is disaggregated for school and type of award, the trend shows that schools such as U.C. Merced, which has a disproportionately Latinx population in comparison to other schools in the U.C. system has an elevated grant award. While U.C. schools have many Pell grant recipients, the largest grant awarded comes from Federal, State, and Local grants."
   ]
  },
  {
   "cell_type": "code",
   "execution_count": null,
   "metadata": {},
   "outputs": [],
   "source": []
  }
 ],
 "metadata": {
  "kernelspec": {
   "display_name": "Python 3",
   "language": "python",
   "name": "python3"
  },
  "language_info": {
   "codemirror_mode": {
    "name": "ipython",
    "version": 3
   },
   "file_extension": ".py",
   "mimetype": "text/x-python",
   "name": "python",
   "nbconvert_exporter": "python",
   "pygments_lexer": "ipython3",
   "version": "3.7.3"
  }
 },
 "nbformat": 4,
 "nbformat_minor": 4
}
